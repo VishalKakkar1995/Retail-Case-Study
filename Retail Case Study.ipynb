{
 "cells": [
  {
   "cell_type": "code",
   "execution_count": 1,
   "metadata": {},
   "outputs": [],
   "source": [
    "import pandas as pd\n",
    "import numpy as np\n",
    "from matplotlib import pyplot as plt\n",
    "from datetime import datetime as dt"
   ]
  },
  {
   "cell_type": "code",
   "execution_count": 2,
   "metadata": {},
   "outputs": [],
   "source": [
    "Customers=pd.read_csv(\"C:/Users/Vishal/Desktop/Python/3. Pandas Case Study 1 - Retail Case Study/Customer.csv\")\n",
    "Product_info=pd.read_csv(\"C:/Users/Vishal/Desktop/Python/3. Pandas Case Study 1 - Retail Case Study/prod_cat_info.csv\")\n",
    "Transactions=pd.read_csv(\"C:/Users/Vishal/Desktop/Python/3. Pandas Case Study 1 - Retail Case Study/Transactions.csv\")"
   ]
  },
  {
   "cell_type": "code",
   "execution_count": 3,
   "metadata": {},
   "outputs": [
    {
     "data": {
      "text/html": [
       "<div>\n",
       "<style scoped>\n",
       "    .dataframe tbody tr th:only-of-type {\n",
       "        vertical-align: middle;\n",
       "    }\n",
       "\n",
       "    .dataframe tbody tr th {\n",
       "        vertical-align: top;\n",
       "    }\n",
       "\n",
       "    .dataframe thead th {\n",
       "        text-align: right;\n",
       "    }\n",
       "</style>\n",
       "<table border=\"1\" class=\"dataframe\">\n",
       "  <thead>\n",
       "    <tr style=\"text-align: right;\">\n",
       "      <th></th>\n",
       "      <th>customer_Id</th>\n",
       "      <th>DOB</th>\n",
       "      <th>Gender</th>\n",
       "      <th>city_code</th>\n",
       "    </tr>\n",
       "  </thead>\n",
       "  <tbody>\n",
       "    <tr>\n",
       "      <th>0</th>\n",
       "      <td>268408</td>\n",
       "      <td>02-01-1970</td>\n",
       "      <td>M</td>\n",
       "      <td>4.0</td>\n",
       "    </tr>\n",
       "    <tr>\n",
       "      <th>1</th>\n",
       "      <td>269696</td>\n",
       "      <td>07-01-1970</td>\n",
       "      <td>F</td>\n",
       "      <td>8.0</td>\n",
       "    </tr>\n",
       "  </tbody>\n",
       "</table>\n",
       "</div>"
      ],
      "text/plain": [
       "   customer_Id         DOB Gender  city_code\n",
       "0       268408  02-01-1970      M        4.0\n",
       "1       269696  07-01-1970      F        8.0"
      ]
     },
     "execution_count": 3,
     "metadata": {},
     "output_type": "execute_result"
    }
   ],
   "source": [
    "Customers.head(2)"
   ]
  },
  {
   "cell_type": "code",
   "execution_count": 4,
   "metadata": {},
   "outputs": [
    {
     "data": {
      "text/html": [
       "<div>\n",
       "<style scoped>\n",
       "    .dataframe tbody tr th:only-of-type {\n",
       "        vertical-align: middle;\n",
       "    }\n",
       "\n",
       "    .dataframe tbody tr th {\n",
       "        vertical-align: top;\n",
       "    }\n",
       "\n",
       "    .dataframe thead th {\n",
       "        text-align: right;\n",
       "    }\n",
       "</style>\n",
       "<table border=\"1\" class=\"dataframe\">\n",
       "  <thead>\n",
       "    <tr style=\"text-align: right;\">\n",
       "      <th></th>\n",
       "      <th>prod_cat_code</th>\n",
       "      <th>prod_cat</th>\n",
       "      <th>prod_subcat_code</th>\n",
       "      <th>prod_subcat</th>\n",
       "    </tr>\n",
       "  </thead>\n",
       "  <tbody>\n",
       "    <tr>\n",
       "      <th>0</th>\n",
       "      <td>1</td>\n",
       "      <td>Clothing</td>\n",
       "      <td>4</td>\n",
       "      <td>Mens</td>\n",
       "    </tr>\n",
       "    <tr>\n",
       "      <th>1</th>\n",
       "      <td>1</td>\n",
       "      <td>Clothing</td>\n",
       "      <td>1</td>\n",
       "      <td>Women</td>\n",
       "    </tr>\n",
       "  </tbody>\n",
       "</table>\n",
       "</div>"
      ],
      "text/plain": [
       "   prod_cat_code  prod_cat  prod_subcat_code prod_subcat\n",
       "0              1  Clothing                 4        Mens\n",
       "1              1  Clothing                 1       Women"
      ]
     },
     "execution_count": 4,
     "metadata": {},
     "output_type": "execute_result"
    }
   ],
   "source": [
    "Product_info.rename(columns={'prod_sub_cat_code':'prod_subcat_code'},inplace=True)\n",
    "\n",
    "Product_info.head(2)"
   ]
  },
  {
   "cell_type": "code",
   "execution_count": 5,
   "metadata": {},
   "outputs": [
    {
     "data": {
      "text/html": [
       "<div>\n",
       "<style scoped>\n",
       "    .dataframe tbody tr th:only-of-type {\n",
       "        vertical-align: middle;\n",
       "    }\n",
       "\n",
       "    .dataframe tbody tr th {\n",
       "        vertical-align: top;\n",
       "    }\n",
       "\n",
       "    .dataframe thead th {\n",
       "        text-align: right;\n",
       "    }\n",
       "</style>\n",
       "<table border=\"1\" class=\"dataframe\">\n",
       "  <thead>\n",
       "    <tr style=\"text-align: right;\">\n",
       "      <th></th>\n",
       "      <th>transaction_id</th>\n",
       "      <th>cust_id</th>\n",
       "      <th>tran_date</th>\n",
       "      <th>prod_subcat_code</th>\n",
       "      <th>prod_cat_code</th>\n",
       "      <th>Qty</th>\n",
       "      <th>Rate</th>\n",
       "      <th>Tax</th>\n",
       "      <th>total_amt</th>\n",
       "      <th>Store_type</th>\n",
       "    </tr>\n",
       "  </thead>\n",
       "  <tbody>\n",
       "    <tr>\n",
       "      <th>0</th>\n",
       "      <td>80712190438</td>\n",
       "      <td>270351</td>\n",
       "      <td>28-02-2014</td>\n",
       "      <td>1</td>\n",
       "      <td>1</td>\n",
       "      <td>-5</td>\n",
       "      <td>-772</td>\n",
       "      <td>405.300</td>\n",
       "      <td>-4265.300</td>\n",
       "      <td>e-Shop</td>\n",
       "    </tr>\n",
       "    <tr>\n",
       "      <th>1</th>\n",
       "      <td>29258453508</td>\n",
       "      <td>270384</td>\n",
       "      <td>27-02-2014</td>\n",
       "      <td>5</td>\n",
       "      <td>3</td>\n",
       "      <td>-5</td>\n",
       "      <td>-1497</td>\n",
       "      <td>785.925</td>\n",
       "      <td>-8270.925</td>\n",
       "      <td>e-Shop</td>\n",
       "    </tr>\n",
       "  </tbody>\n",
       "</table>\n",
       "</div>"
      ],
      "text/plain": [
       "   transaction_id  cust_id   tran_date  prod_subcat_code  prod_cat_code  Qty  \\\n",
       "0     80712190438   270351  28-02-2014                 1              1   -5   \n",
       "1     29258453508   270384  27-02-2014                 5              3   -5   \n",
       "\n",
       "   Rate      Tax  total_amt Store_type  \n",
       "0  -772  405.300  -4265.300     e-Shop  \n",
       "1 -1497  785.925  -8270.925     e-Shop  "
      ]
     },
     "execution_count": 5,
     "metadata": {},
     "output_type": "execute_result"
    }
   ],
   "source": [
    "Transactions.head(2)"
   ]
  },
  {
   "cell_type": "code",
   "execution_count": 6,
   "metadata": {},
   "outputs": [
    {
     "data": {
      "text/html": [
       "<div>\n",
       "<style scoped>\n",
       "    .dataframe tbody tr th:only-of-type {\n",
       "        vertical-align: middle;\n",
       "    }\n",
       "\n",
       "    .dataframe tbody tr th {\n",
       "        vertical-align: top;\n",
       "    }\n",
       "\n",
       "    .dataframe thead th {\n",
       "        text-align: right;\n",
       "    }\n",
       "</style>\n",
       "<table border=\"1\" class=\"dataframe\">\n",
       "  <thead>\n",
       "    <tr style=\"text-align: right;\">\n",
       "      <th></th>\n",
       "      <th>transaction_id</th>\n",
       "      <th>cust_id</th>\n",
       "      <th>tran_date</th>\n",
       "      <th>prod_subcat_code</th>\n",
       "      <th>prod_cat_code</th>\n",
       "      <th>Qty</th>\n",
       "      <th>Rate</th>\n",
       "      <th>Tax</th>\n",
       "      <th>total_amt</th>\n",
       "      <th>Store_type</th>\n",
       "      <th>prod_cat</th>\n",
       "      <th>prod_subcat</th>\n",
       "    </tr>\n",
       "  </thead>\n",
       "  <tbody>\n",
       "    <tr>\n",
       "      <th>0</th>\n",
       "      <td>80712190438</td>\n",
       "      <td>270351</td>\n",
       "      <td>28-02-2014</td>\n",
       "      <td>1</td>\n",
       "      <td>1</td>\n",
       "      <td>-5</td>\n",
       "      <td>-772</td>\n",
       "      <td>405.300</td>\n",
       "      <td>-4265.300</td>\n",
       "      <td>e-Shop</td>\n",
       "      <td>Clothing</td>\n",
       "      <td>Women</td>\n",
       "    </tr>\n",
       "    <tr>\n",
       "      <th>1</th>\n",
       "      <td>29258453508</td>\n",
       "      <td>270384</td>\n",
       "      <td>27-02-2014</td>\n",
       "      <td>5</td>\n",
       "      <td>3</td>\n",
       "      <td>-5</td>\n",
       "      <td>-1497</td>\n",
       "      <td>785.925</td>\n",
       "      <td>-8270.925</td>\n",
       "      <td>e-Shop</td>\n",
       "      <td>Electronics</td>\n",
       "      <td>Computers</td>\n",
       "    </tr>\n",
       "    <tr>\n",
       "      <th>2</th>\n",
       "      <td>51750724947</td>\n",
       "      <td>273420</td>\n",
       "      <td>24-02-2014</td>\n",
       "      <td>6</td>\n",
       "      <td>5</td>\n",
       "      <td>-2</td>\n",
       "      <td>-791</td>\n",
       "      <td>166.110</td>\n",
       "      <td>-1748.110</td>\n",
       "      <td>TeleShop</td>\n",
       "      <td>Books</td>\n",
       "      <td>DIY</td>\n",
       "    </tr>\n",
       "    <tr>\n",
       "      <th>3</th>\n",
       "      <td>93274880719</td>\n",
       "      <td>271509</td>\n",
       "      <td>24-02-2014</td>\n",
       "      <td>11</td>\n",
       "      <td>6</td>\n",
       "      <td>-3</td>\n",
       "      <td>-1363</td>\n",
       "      <td>429.345</td>\n",
       "      <td>-4518.345</td>\n",
       "      <td>e-Shop</td>\n",
       "      <td>Home and kitchen</td>\n",
       "      <td>Bath</td>\n",
       "    </tr>\n",
       "    <tr>\n",
       "      <th>4</th>\n",
       "      <td>51750724947</td>\n",
       "      <td>273420</td>\n",
       "      <td>23-02-2014</td>\n",
       "      <td>6</td>\n",
       "      <td>5</td>\n",
       "      <td>-2</td>\n",
       "      <td>-791</td>\n",
       "      <td>166.110</td>\n",
       "      <td>-1748.110</td>\n",
       "      <td>TeleShop</td>\n",
       "      <td>Books</td>\n",
       "      <td>DIY</td>\n",
       "    </tr>\n",
       "  </tbody>\n",
       "</table>\n",
       "</div>"
      ],
      "text/plain": [
       "   transaction_id  cust_id   tran_date  prod_subcat_code  prod_cat_code  Qty  \\\n",
       "0     80712190438   270351  28-02-2014                 1              1   -5   \n",
       "1     29258453508   270384  27-02-2014                 5              3   -5   \n",
       "2     51750724947   273420  24-02-2014                 6              5   -2   \n",
       "3     93274880719   271509  24-02-2014                11              6   -3   \n",
       "4     51750724947   273420  23-02-2014                 6              5   -2   \n",
       "\n",
       "   Rate      Tax  total_amt Store_type          prod_cat prod_subcat  \n",
       "0  -772  405.300  -4265.300     e-Shop          Clothing       Women  \n",
       "1 -1497  785.925  -8270.925     e-Shop       Electronics   Computers  \n",
       "2  -791  166.110  -1748.110   TeleShop             Books         DIY  \n",
       "3 -1363  429.345  -4518.345     e-Shop  Home and kitchen        Bath  \n",
       "4  -791  166.110  -1748.110   TeleShop             Books         DIY  "
      ]
     },
     "execution_count": 6,
     "metadata": {},
     "output_type": "execute_result"
    }
   ],
   "source": [
    "Customer_Final=pd.merge(Transactions,Product_info,how='left',left_on=('prod_subcat_code','prod_cat_code'),right_on=('prod_subcat_code','prod_cat_code'))\n",
    "\n",
    "Customer_Final.head()"
   ]
  },
  {
   "cell_type": "code",
   "execution_count": 7,
   "metadata": {},
   "outputs": [
    {
     "name": "stdout",
     "output_type": "stream",
     "text": [
      "1. The merged Data Frame is\n"
     ]
    },
    {
     "data": {
      "text/html": [
       "<div>\n",
       "<style scoped>\n",
       "    .dataframe tbody tr th:only-of-type {\n",
       "        vertical-align: middle;\n",
       "    }\n",
       "\n",
       "    .dataframe tbody tr th {\n",
       "        vertical-align: top;\n",
       "    }\n",
       "\n",
       "    .dataframe thead th {\n",
       "        text-align: right;\n",
       "    }\n",
       "</style>\n",
       "<table border=\"1\" class=\"dataframe\">\n",
       "  <thead>\n",
       "    <tr style=\"text-align: right;\">\n",
       "      <th></th>\n",
       "      <th>transaction_id</th>\n",
       "      <th>cust_id</th>\n",
       "      <th>tran_date</th>\n",
       "      <th>prod_subcat_code</th>\n",
       "      <th>prod_cat_code</th>\n",
       "      <th>Qty</th>\n",
       "      <th>Rate</th>\n",
       "      <th>Tax</th>\n",
       "      <th>total_amt</th>\n",
       "      <th>Store_type</th>\n",
       "      <th>prod_cat</th>\n",
       "      <th>prod_subcat</th>\n",
       "      <th>customer_Id</th>\n",
       "      <th>DOB</th>\n",
       "      <th>Gender</th>\n",
       "      <th>city_code</th>\n",
       "    </tr>\n",
       "  </thead>\n",
       "  <tbody>\n",
       "    <tr>\n",
       "      <th>0</th>\n",
       "      <td>80712190438</td>\n",
       "      <td>270351</td>\n",
       "      <td>28-02-2014</td>\n",
       "      <td>1</td>\n",
       "      <td>1</td>\n",
       "      <td>-5</td>\n",
       "      <td>-772</td>\n",
       "      <td>405.300</td>\n",
       "      <td>-4265.300</td>\n",
       "      <td>e-Shop</td>\n",
       "      <td>Clothing</td>\n",
       "      <td>Women</td>\n",
       "      <td>270351</td>\n",
       "      <td>26-09-1981</td>\n",
       "      <td>M</td>\n",
       "      <td>5.0</td>\n",
       "    </tr>\n",
       "    <tr>\n",
       "      <th>1</th>\n",
       "      <td>29258453508</td>\n",
       "      <td>270384</td>\n",
       "      <td>27-02-2014</td>\n",
       "      <td>5</td>\n",
       "      <td>3</td>\n",
       "      <td>-5</td>\n",
       "      <td>-1497</td>\n",
       "      <td>785.925</td>\n",
       "      <td>-8270.925</td>\n",
       "      <td>e-Shop</td>\n",
       "      <td>Electronics</td>\n",
       "      <td>Computers</td>\n",
       "      <td>270384</td>\n",
       "      <td>11-05-1973</td>\n",
       "      <td>F</td>\n",
       "      <td>8.0</td>\n",
       "    </tr>\n",
       "    <tr>\n",
       "      <th>2</th>\n",
       "      <td>51750724947</td>\n",
       "      <td>273420</td>\n",
       "      <td>24-02-2014</td>\n",
       "      <td>6</td>\n",
       "      <td>5</td>\n",
       "      <td>-2</td>\n",
       "      <td>-791</td>\n",
       "      <td>166.110</td>\n",
       "      <td>-1748.110</td>\n",
       "      <td>TeleShop</td>\n",
       "      <td>Books</td>\n",
       "      <td>DIY</td>\n",
       "      <td>273420</td>\n",
       "      <td>27-07-1992</td>\n",
       "      <td>M</td>\n",
       "      <td>8.0</td>\n",
       "    </tr>\n",
       "    <tr>\n",
       "      <th>3</th>\n",
       "      <td>93274880719</td>\n",
       "      <td>271509</td>\n",
       "      <td>24-02-2014</td>\n",
       "      <td>11</td>\n",
       "      <td>6</td>\n",
       "      <td>-3</td>\n",
       "      <td>-1363</td>\n",
       "      <td>429.345</td>\n",
       "      <td>-4518.345</td>\n",
       "      <td>e-Shop</td>\n",
       "      <td>Home and kitchen</td>\n",
       "      <td>Bath</td>\n",
       "      <td>271509</td>\n",
       "      <td>08-06-1981</td>\n",
       "      <td>M</td>\n",
       "      <td>3.0</td>\n",
       "    </tr>\n",
       "    <tr>\n",
       "      <th>4</th>\n",
       "      <td>51750724947</td>\n",
       "      <td>273420</td>\n",
       "      <td>23-02-2014</td>\n",
       "      <td>6</td>\n",
       "      <td>5</td>\n",
       "      <td>-2</td>\n",
       "      <td>-791</td>\n",
       "      <td>166.110</td>\n",
       "      <td>-1748.110</td>\n",
       "      <td>TeleShop</td>\n",
       "      <td>Books</td>\n",
       "      <td>DIY</td>\n",
       "      <td>273420</td>\n",
       "      <td>27-07-1992</td>\n",
       "      <td>M</td>\n",
       "      <td>8.0</td>\n",
       "    </tr>\n",
       "  </tbody>\n",
       "</table>\n",
       "</div>"
      ],
      "text/plain": [
       "   transaction_id  cust_id   tran_date  prod_subcat_code  prod_cat_code  Qty  \\\n",
       "0     80712190438   270351  28-02-2014                 1              1   -5   \n",
       "1     29258453508   270384  27-02-2014                 5              3   -5   \n",
       "2     51750724947   273420  24-02-2014                 6              5   -2   \n",
       "3     93274880719   271509  24-02-2014                11              6   -3   \n",
       "4     51750724947   273420  23-02-2014                 6              5   -2   \n",
       "\n",
       "   Rate      Tax  total_amt Store_type          prod_cat prod_subcat  \\\n",
       "0  -772  405.300  -4265.300     e-Shop          Clothing       Women   \n",
       "1 -1497  785.925  -8270.925     e-Shop       Electronics   Computers   \n",
       "2  -791  166.110  -1748.110   TeleShop             Books         DIY   \n",
       "3 -1363  429.345  -4518.345     e-Shop  Home and kitchen        Bath   \n",
       "4  -791  166.110  -1748.110   TeleShop             Books         DIY   \n",
       "\n",
       "   customer_Id         DOB Gender  city_code  \n",
       "0       270351  26-09-1981      M        5.0  \n",
       "1       270384  11-05-1973      F        8.0  \n",
       "2       273420  27-07-1992      M        8.0  \n",
       "3       271509  08-06-1981      M        3.0  \n",
       "4       273420  27-07-1992      M        8.0  "
      ]
     },
     "execution_count": 7,
     "metadata": {},
     "output_type": "execute_result"
    }
   ],
   "source": [
    "Customer_Final=pd.merge(Customer_Final,Customers,how='left',left_on='cust_id',right_on='customer_Id')\n",
    "\n",
    "print(\"1. The merged Data Frame is\")\n",
    "\n",
    "Customer_Final.head()"
   ]
  },
  {
   "cell_type": "code",
   "execution_count": 8,
   "metadata": {},
   "outputs": [
    {
     "name": "stdout",
     "output_type": "stream",
     "text": [
      "2.a  The couluns and their corresponding Data Types are:\n",
      "\n",
      " transaction_id        int64\n",
      "cust_id               int64\n",
      "tran_date            object\n",
      "prod_subcat_code      int64\n",
      "prod_cat_code         int64\n",
      "Qty                   int64\n",
      "Rate                  int64\n",
      "Tax                 float64\n",
      "total_amt           float64\n",
      "Store_type           object\n",
      "prod_cat             object\n",
      "prod_subcat          object\n",
      "customer_Id           int64\n",
      "DOB                  object\n",
      "Gender               object\n",
      "city_code           float64\n",
      "dtype: object\n"
     ]
    }
   ],
   "source": [
    "print(\"2.a  The couluns and their corresponding Data Types are:\")\n",
    "\n",
    "\n",
    "print('\\n', Customer_Final.dtypes)"
   ]
  },
  {
   "cell_type": "code",
   "execution_count": 9,
   "metadata": {},
   "outputs": [
    {
     "name": "stdout",
     "output_type": "stream",
     "text": [
      "2.b Top ten observations are: \n"
     ]
    },
    {
     "data": {
      "text/html": [
       "<div>\n",
       "<style scoped>\n",
       "    .dataframe tbody tr th:only-of-type {\n",
       "        vertical-align: middle;\n",
       "    }\n",
       "\n",
       "    .dataframe tbody tr th {\n",
       "        vertical-align: top;\n",
       "    }\n",
       "\n",
       "    .dataframe thead th {\n",
       "        text-align: right;\n",
       "    }\n",
       "</style>\n",
       "<table border=\"1\" class=\"dataframe\">\n",
       "  <thead>\n",
       "    <tr style=\"text-align: right;\">\n",
       "      <th></th>\n",
       "      <th>transaction_id</th>\n",
       "      <th>cust_id</th>\n",
       "      <th>tran_date</th>\n",
       "      <th>prod_subcat_code</th>\n",
       "      <th>prod_cat_code</th>\n",
       "      <th>Qty</th>\n",
       "      <th>Rate</th>\n",
       "      <th>Tax</th>\n",
       "      <th>total_amt</th>\n",
       "      <th>Store_type</th>\n",
       "      <th>prod_cat</th>\n",
       "      <th>prod_subcat</th>\n",
       "      <th>customer_Id</th>\n",
       "      <th>DOB</th>\n",
       "      <th>Gender</th>\n",
       "      <th>city_code</th>\n",
       "    </tr>\n",
       "  </thead>\n",
       "  <tbody>\n",
       "    <tr>\n",
       "      <th>0</th>\n",
       "      <td>80712190438</td>\n",
       "      <td>270351</td>\n",
       "      <td>28-02-2014</td>\n",
       "      <td>1</td>\n",
       "      <td>1</td>\n",
       "      <td>-5</td>\n",
       "      <td>-772</td>\n",
       "      <td>405.300</td>\n",
       "      <td>-4265.300</td>\n",
       "      <td>e-Shop</td>\n",
       "      <td>Clothing</td>\n",
       "      <td>Women</td>\n",
       "      <td>270351</td>\n",
       "      <td>26-09-1981</td>\n",
       "      <td>M</td>\n",
       "      <td>5.0</td>\n",
       "    </tr>\n",
       "    <tr>\n",
       "      <th>1</th>\n",
       "      <td>29258453508</td>\n",
       "      <td>270384</td>\n",
       "      <td>27-02-2014</td>\n",
       "      <td>5</td>\n",
       "      <td>3</td>\n",
       "      <td>-5</td>\n",
       "      <td>-1497</td>\n",
       "      <td>785.925</td>\n",
       "      <td>-8270.925</td>\n",
       "      <td>e-Shop</td>\n",
       "      <td>Electronics</td>\n",
       "      <td>Computers</td>\n",
       "      <td>270384</td>\n",
       "      <td>11-05-1973</td>\n",
       "      <td>F</td>\n",
       "      <td>8.0</td>\n",
       "    </tr>\n",
       "    <tr>\n",
       "      <th>2</th>\n",
       "      <td>51750724947</td>\n",
       "      <td>273420</td>\n",
       "      <td>24-02-2014</td>\n",
       "      <td>6</td>\n",
       "      <td>5</td>\n",
       "      <td>-2</td>\n",
       "      <td>-791</td>\n",
       "      <td>166.110</td>\n",
       "      <td>-1748.110</td>\n",
       "      <td>TeleShop</td>\n",
       "      <td>Books</td>\n",
       "      <td>DIY</td>\n",
       "      <td>273420</td>\n",
       "      <td>27-07-1992</td>\n",
       "      <td>M</td>\n",
       "      <td>8.0</td>\n",
       "    </tr>\n",
       "    <tr>\n",
       "      <th>3</th>\n",
       "      <td>93274880719</td>\n",
       "      <td>271509</td>\n",
       "      <td>24-02-2014</td>\n",
       "      <td>11</td>\n",
       "      <td>6</td>\n",
       "      <td>-3</td>\n",
       "      <td>-1363</td>\n",
       "      <td>429.345</td>\n",
       "      <td>-4518.345</td>\n",
       "      <td>e-Shop</td>\n",
       "      <td>Home and kitchen</td>\n",
       "      <td>Bath</td>\n",
       "      <td>271509</td>\n",
       "      <td>08-06-1981</td>\n",
       "      <td>M</td>\n",
       "      <td>3.0</td>\n",
       "    </tr>\n",
       "    <tr>\n",
       "      <th>4</th>\n",
       "      <td>51750724947</td>\n",
       "      <td>273420</td>\n",
       "      <td>23-02-2014</td>\n",
       "      <td>6</td>\n",
       "      <td>5</td>\n",
       "      <td>-2</td>\n",
       "      <td>-791</td>\n",
       "      <td>166.110</td>\n",
       "      <td>-1748.110</td>\n",
       "      <td>TeleShop</td>\n",
       "      <td>Books</td>\n",
       "      <td>DIY</td>\n",
       "      <td>273420</td>\n",
       "      <td>27-07-1992</td>\n",
       "      <td>M</td>\n",
       "      <td>8.0</td>\n",
       "    </tr>\n",
       "    <tr>\n",
       "      <th>5</th>\n",
       "      <td>97439039119</td>\n",
       "      <td>272357</td>\n",
       "      <td>23-02-2014</td>\n",
       "      <td>8</td>\n",
       "      <td>3</td>\n",
       "      <td>-2</td>\n",
       "      <td>-824</td>\n",
       "      <td>173.040</td>\n",
       "      <td>-1821.040</td>\n",
       "      <td>TeleShop</td>\n",
       "      <td>Electronics</td>\n",
       "      <td>Personal Appliances</td>\n",
       "      <td>272357</td>\n",
       "      <td>09-10-1982</td>\n",
       "      <td>F</td>\n",
       "      <td>6.0</td>\n",
       "    </tr>\n",
       "    <tr>\n",
       "      <th>6</th>\n",
       "      <td>45649838090</td>\n",
       "      <td>273667</td>\n",
       "      <td>22-02-2014</td>\n",
       "      <td>11</td>\n",
       "      <td>6</td>\n",
       "      <td>-1</td>\n",
       "      <td>-1450</td>\n",
       "      <td>152.250</td>\n",
       "      <td>-1602.250</td>\n",
       "      <td>e-Shop</td>\n",
       "      <td>Home and kitchen</td>\n",
       "      <td>Bath</td>\n",
       "      <td>273667</td>\n",
       "      <td>29-05-1981</td>\n",
       "      <td>M</td>\n",
       "      <td>9.0</td>\n",
       "    </tr>\n",
       "    <tr>\n",
       "      <th>7</th>\n",
       "      <td>22643667930</td>\n",
       "      <td>271489</td>\n",
       "      <td>22-02-2014</td>\n",
       "      <td>12</td>\n",
       "      <td>6</td>\n",
       "      <td>-1</td>\n",
       "      <td>-1225</td>\n",
       "      <td>128.625</td>\n",
       "      <td>-1353.625</td>\n",
       "      <td>TeleShop</td>\n",
       "      <td>Home and kitchen</td>\n",
       "      <td>Tools</td>\n",
       "      <td>271489</td>\n",
       "      <td>21-04-1971</td>\n",
       "      <td>M</td>\n",
       "      <td>9.0</td>\n",
       "    </tr>\n",
       "    <tr>\n",
       "      <th>8</th>\n",
       "      <td>79792372943</td>\n",
       "      <td>275108</td>\n",
       "      <td>22-02-2014</td>\n",
       "      <td>3</td>\n",
       "      <td>1</td>\n",
       "      <td>-3</td>\n",
       "      <td>-908</td>\n",
       "      <td>286.020</td>\n",
       "      <td>-3010.020</td>\n",
       "      <td>MBR</td>\n",
       "      <td>Clothing</td>\n",
       "      <td>Kids</td>\n",
       "      <td>275108</td>\n",
       "      <td>04-11-1971</td>\n",
       "      <td>F</td>\n",
       "      <td>8.0</td>\n",
       "    </tr>\n",
       "    <tr>\n",
       "      <th>9</th>\n",
       "      <td>50076728598</td>\n",
       "      <td>269014</td>\n",
       "      <td>21-02-2014</td>\n",
       "      <td>8</td>\n",
       "      <td>3</td>\n",
       "      <td>-4</td>\n",
       "      <td>-581</td>\n",
       "      <td>244.020</td>\n",
       "      <td>-2568.020</td>\n",
       "      <td>e-Shop</td>\n",
       "      <td>Electronics</td>\n",
       "      <td>Personal Appliances</td>\n",
       "      <td>269014</td>\n",
       "      <td>27-11-1979</td>\n",
       "      <td>F</td>\n",
       "      <td>3.0</td>\n",
       "    </tr>\n",
       "  </tbody>\n",
       "</table>\n",
       "</div>"
      ],
      "text/plain": [
       "   transaction_id  cust_id   tran_date  prod_subcat_code  prod_cat_code  Qty  \\\n",
       "0     80712190438   270351  28-02-2014                 1              1   -5   \n",
       "1     29258453508   270384  27-02-2014                 5              3   -5   \n",
       "2     51750724947   273420  24-02-2014                 6              5   -2   \n",
       "3     93274880719   271509  24-02-2014                11              6   -3   \n",
       "4     51750724947   273420  23-02-2014                 6              5   -2   \n",
       "5     97439039119   272357  23-02-2014                 8              3   -2   \n",
       "6     45649838090   273667  22-02-2014                11              6   -1   \n",
       "7     22643667930   271489  22-02-2014                12              6   -1   \n",
       "8     79792372943   275108  22-02-2014                 3              1   -3   \n",
       "9     50076728598   269014  21-02-2014                 8              3   -4   \n",
       "\n",
       "   Rate      Tax  total_amt Store_type          prod_cat          prod_subcat  \\\n",
       "0  -772  405.300  -4265.300     e-Shop          Clothing                Women   \n",
       "1 -1497  785.925  -8270.925     e-Shop       Electronics            Computers   \n",
       "2  -791  166.110  -1748.110   TeleShop             Books                  DIY   \n",
       "3 -1363  429.345  -4518.345     e-Shop  Home and kitchen                 Bath   \n",
       "4  -791  166.110  -1748.110   TeleShop             Books                  DIY   \n",
       "5  -824  173.040  -1821.040   TeleShop       Electronics  Personal Appliances   \n",
       "6 -1450  152.250  -1602.250     e-Shop  Home and kitchen                 Bath   \n",
       "7 -1225  128.625  -1353.625   TeleShop  Home and kitchen                Tools   \n",
       "8  -908  286.020  -3010.020        MBR          Clothing                 Kids   \n",
       "9  -581  244.020  -2568.020     e-Shop       Electronics  Personal Appliances   \n",
       "\n",
       "   customer_Id         DOB Gender  city_code  \n",
       "0       270351  26-09-1981      M        5.0  \n",
       "1       270384  11-05-1973      F        8.0  \n",
       "2       273420  27-07-1992      M        8.0  \n",
       "3       271509  08-06-1981      M        3.0  \n",
       "4       273420  27-07-1992      M        8.0  \n",
       "5       272357  09-10-1982      F        6.0  \n",
       "6       273667  29-05-1981      M        9.0  \n",
       "7       271489  21-04-1971      M        9.0  \n",
       "8       275108  04-11-1971      F        8.0  \n",
       "9       269014  27-11-1979      F        3.0  "
      ]
     },
     "execution_count": 9,
     "metadata": {},
     "output_type": "execute_result"
    }
   ],
   "source": [
    "print('2.b Top ten observations are: ')\n",
    "\n",
    "Customer_Final.head(10)"
   ]
  },
  {
   "cell_type": "code",
   "execution_count": 10,
   "metadata": {},
   "outputs": [
    {
     "name": "stdout",
     "output_type": "stream",
     "text": [
      "2.b Bottom ten observations are: \n"
     ]
    },
    {
     "data": {
      "text/html": [
       "<div>\n",
       "<style scoped>\n",
       "    .dataframe tbody tr th:only-of-type {\n",
       "        vertical-align: middle;\n",
       "    }\n",
       "\n",
       "    .dataframe tbody tr th {\n",
       "        vertical-align: top;\n",
       "    }\n",
       "\n",
       "    .dataframe thead th {\n",
       "        text-align: right;\n",
       "    }\n",
       "</style>\n",
       "<table border=\"1\" class=\"dataframe\">\n",
       "  <thead>\n",
       "    <tr style=\"text-align: right;\">\n",
       "      <th></th>\n",
       "      <th>transaction_id</th>\n",
       "      <th>cust_id</th>\n",
       "      <th>tran_date</th>\n",
       "      <th>prod_subcat_code</th>\n",
       "      <th>prod_cat_code</th>\n",
       "      <th>Qty</th>\n",
       "      <th>Rate</th>\n",
       "      <th>Tax</th>\n",
       "      <th>total_amt</th>\n",
       "      <th>Store_type</th>\n",
       "      <th>prod_cat</th>\n",
       "      <th>prod_subcat</th>\n",
       "      <th>customer_Id</th>\n",
       "      <th>DOB</th>\n",
       "      <th>Gender</th>\n",
       "      <th>city_code</th>\n",
       "    </tr>\n",
       "  </thead>\n",
       "  <tbody>\n",
       "    <tr>\n",
       "      <th>23043</th>\n",
       "      <td>49882891062</td>\n",
       "      <td>271982</td>\n",
       "      <td>25-01-2011</td>\n",
       "      <td>10</td>\n",
       "      <td>5</td>\n",
       "      <td>4</td>\n",
       "      <td>1330</td>\n",
       "      <td>558.600</td>\n",
       "      <td>5878.600</td>\n",
       "      <td>e-Shop</td>\n",
       "      <td>Books</td>\n",
       "      <td>Non-Fiction</td>\n",
       "      <td>271982</td>\n",
       "      <td>10-08-1976</td>\n",
       "      <td>M</td>\n",
       "      <td>8.0</td>\n",
       "    </tr>\n",
       "    <tr>\n",
       "      <th>23044</th>\n",
       "      <td>14787475597</td>\n",
       "      <td>273982</td>\n",
       "      <td>25-01-2011</td>\n",
       "      <td>4</td>\n",
       "      <td>3</td>\n",
       "      <td>5</td>\n",
       "      <td>969</td>\n",
       "      <td>508.725</td>\n",
       "      <td>5353.725</td>\n",
       "      <td>e-Shop</td>\n",
       "      <td>Electronics</td>\n",
       "      <td>Mobiles</td>\n",
       "      <td>273982</td>\n",
       "      <td>12-10-1991</td>\n",
       "      <td>M</td>\n",
       "      <td>4.0</td>\n",
       "    </tr>\n",
       "    <tr>\n",
       "      <th>23045</th>\n",
       "      <td>50691119572</td>\n",
       "      <td>273031</td>\n",
       "      <td>25-01-2011</td>\n",
       "      <td>6</td>\n",
       "      <td>5</td>\n",
       "      <td>1</td>\n",
       "      <td>1148</td>\n",
       "      <td>120.540</td>\n",
       "      <td>1268.540</td>\n",
       "      <td>TeleShop</td>\n",
       "      <td>Books</td>\n",
       "      <td>DIY</td>\n",
       "      <td>273031</td>\n",
       "      <td>17-01-1980</td>\n",
       "      <td>F</td>\n",
       "      <td>8.0</td>\n",
       "    </tr>\n",
       "    <tr>\n",
       "      <th>23046</th>\n",
       "      <td>40893803228</td>\n",
       "      <td>272049</td>\n",
       "      <td>25-01-2011</td>\n",
       "      <td>11</td>\n",
       "      <td>6</td>\n",
       "      <td>3</td>\n",
       "      <td>1077</td>\n",
       "      <td>339.255</td>\n",
       "      <td>3570.255</td>\n",
       "      <td>e-Shop</td>\n",
       "      <td>Home and kitchen</td>\n",
       "      <td>Bath</td>\n",
       "      <td>272049</td>\n",
       "      <td>28-06-1975</td>\n",
       "      <td>F</td>\n",
       "      <td>6.0</td>\n",
       "    </tr>\n",
       "    <tr>\n",
       "      <th>23047</th>\n",
       "      <td>30856003613</td>\n",
       "      <td>266866</td>\n",
       "      <td>25-01-2011</td>\n",
       "      <td>4</td>\n",
       "      <td>2</td>\n",
       "      <td>2</td>\n",
       "      <td>444</td>\n",
       "      <td>93.240</td>\n",
       "      <td>981.240</td>\n",
       "      <td>TeleShop</td>\n",
       "      <td>Footwear</td>\n",
       "      <td>Kids</td>\n",
       "      <td>266866</td>\n",
       "      <td>18-04-1974</td>\n",
       "      <td>M</td>\n",
       "      <td>4.0</td>\n",
       "    </tr>\n",
       "    <tr>\n",
       "      <th>23048</th>\n",
       "      <td>94340757522</td>\n",
       "      <td>274550</td>\n",
       "      <td>25-01-2011</td>\n",
       "      <td>12</td>\n",
       "      <td>5</td>\n",
       "      <td>1</td>\n",
       "      <td>1264</td>\n",
       "      <td>132.720</td>\n",
       "      <td>1396.720</td>\n",
       "      <td>e-Shop</td>\n",
       "      <td>Books</td>\n",
       "      <td>Academic</td>\n",
       "      <td>274550</td>\n",
       "      <td>21-02-1972</td>\n",
       "      <td>M</td>\n",
       "      <td>7.0</td>\n",
       "    </tr>\n",
       "    <tr>\n",
       "      <th>23049</th>\n",
       "      <td>89780862956</td>\n",
       "      <td>270022</td>\n",
       "      <td>25-01-2011</td>\n",
       "      <td>4</td>\n",
       "      <td>1</td>\n",
       "      <td>1</td>\n",
       "      <td>677</td>\n",
       "      <td>71.085</td>\n",
       "      <td>748.085</td>\n",
       "      <td>e-Shop</td>\n",
       "      <td>Clothing</td>\n",
       "      <td>Mens</td>\n",
       "      <td>270022</td>\n",
       "      <td>27-04-1984</td>\n",
       "      <td>M</td>\n",
       "      <td>9.0</td>\n",
       "    </tr>\n",
       "    <tr>\n",
       "      <th>23050</th>\n",
       "      <td>85115299378</td>\n",
       "      <td>271020</td>\n",
       "      <td>25-01-2011</td>\n",
       "      <td>2</td>\n",
       "      <td>6</td>\n",
       "      <td>4</td>\n",
       "      <td>1052</td>\n",
       "      <td>441.840</td>\n",
       "      <td>4649.840</td>\n",
       "      <td>MBR</td>\n",
       "      <td>Home and kitchen</td>\n",
       "      <td>Furnishing</td>\n",
       "      <td>271020</td>\n",
       "      <td>20-06-1976</td>\n",
       "      <td>M</td>\n",
       "      <td>8.0</td>\n",
       "    </tr>\n",
       "    <tr>\n",
       "      <th>23051</th>\n",
       "      <td>72870271171</td>\n",
       "      <td>270911</td>\n",
       "      <td>25-01-2011</td>\n",
       "      <td>11</td>\n",
       "      <td>5</td>\n",
       "      <td>3</td>\n",
       "      <td>1142</td>\n",
       "      <td>359.730</td>\n",
       "      <td>3785.730</td>\n",
       "      <td>TeleShop</td>\n",
       "      <td>Books</td>\n",
       "      <td>Children</td>\n",
       "      <td>270911</td>\n",
       "      <td>22-05-1970</td>\n",
       "      <td>M</td>\n",
       "      <td>2.0</td>\n",
       "    </tr>\n",
       "    <tr>\n",
       "      <th>23052</th>\n",
       "      <td>77960931771</td>\n",
       "      <td>271961</td>\n",
       "      <td>25-01-2011</td>\n",
       "      <td>11</td>\n",
       "      <td>5</td>\n",
       "      <td>1</td>\n",
       "      <td>447</td>\n",
       "      <td>46.935</td>\n",
       "      <td>493.935</td>\n",
       "      <td>TeleShop</td>\n",
       "      <td>Books</td>\n",
       "      <td>Children</td>\n",
       "      <td>271961</td>\n",
       "      <td>15-01-1982</td>\n",
       "      <td>M</td>\n",
       "      <td>1.0</td>\n",
       "    </tr>\n",
       "  </tbody>\n",
       "</table>\n",
       "</div>"
      ],
      "text/plain": [
       "       transaction_id  cust_id   tran_date  prod_subcat_code  prod_cat_code  \\\n",
       "23043     49882891062   271982  25-01-2011                10              5   \n",
       "23044     14787475597   273982  25-01-2011                 4              3   \n",
       "23045     50691119572   273031  25-01-2011                 6              5   \n",
       "23046     40893803228   272049  25-01-2011                11              6   \n",
       "23047     30856003613   266866  25-01-2011                 4              2   \n",
       "23048     94340757522   274550  25-01-2011                12              5   \n",
       "23049     89780862956   270022  25-01-2011                 4              1   \n",
       "23050     85115299378   271020  25-01-2011                 2              6   \n",
       "23051     72870271171   270911  25-01-2011                11              5   \n",
       "23052     77960931771   271961  25-01-2011                11              5   \n",
       "\n",
       "       Qty  Rate      Tax  total_amt Store_type          prod_cat  \\\n",
       "23043    4  1330  558.600   5878.600     e-Shop             Books   \n",
       "23044    5   969  508.725   5353.725     e-Shop       Electronics   \n",
       "23045    1  1148  120.540   1268.540   TeleShop             Books   \n",
       "23046    3  1077  339.255   3570.255     e-Shop  Home and kitchen   \n",
       "23047    2   444   93.240    981.240   TeleShop          Footwear   \n",
       "23048    1  1264  132.720   1396.720     e-Shop             Books   \n",
       "23049    1   677   71.085    748.085     e-Shop          Clothing   \n",
       "23050    4  1052  441.840   4649.840        MBR  Home and kitchen   \n",
       "23051    3  1142  359.730   3785.730   TeleShop             Books   \n",
       "23052    1   447   46.935    493.935   TeleShop             Books   \n",
       "\n",
       "       prod_subcat  customer_Id         DOB Gender  city_code  \n",
       "23043  Non-Fiction       271982  10-08-1976      M        8.0  \n",
       "23044      Mobiles       273982  12-10-1991      M        4.0  \n",
       "23045          DIY       273031  17-01-1980      F        8.0  \n",
       "23046         Bath       272049  28-06-1975      F        6.0  \n",
       "23047         Kids       266866  18-04-1974      M        4.0  \n",
       "23048     Academic       274550  21-02-1972      M        7.0  \n",
       "23049         Mens       270022  27-04-1984      M        9.0  \n",
       "23050   Furnishing       271020  20-06-1976      M        8.0  \n",
       "23051     Children       270911  22-05-1970      M        2.0  \n",
       "23052     Children       271961  15-01-1982      M        1.0  "
      ]
     },
     "execution_count": 10,
     "metadata": {},
     "output_type": "execute_result"
    }
   ],
   "source": [
    "print('2.b Bottom ten observations are: ')\n",
    "\n",
    "Customer_Final.tail(10)"
   ]
  },
  {
   "cell_type": "code",
   "execution_count": 11,
   "metadata": {},
   "outputs": [
    {
     "name": "stdout",
     "output_type": "stream",
     "text": [
      "2.c The Five point summary is :\n"
     ]
    },
    {
     "data": {
      "text/html": [
       "<div>\n",
       "<style scoped>\n",
       "    .dataframe tbody tr th:only-of-type {\n",
       "        vertical-align: middle;\n",
       "    }\n",
       "\n",
       "    .dataframe tbody tr th {\n",
       "        vertical-align: top;\n",
       "    }\n",
       "\n",
       "    .dataframe thead th {\n",
       "        text-align: right;\n",
       "    }\n",
       "</style>\n",
       "<table border=\"1\" class=\"dataframe\">\n",
       "  <thead>\n",
       "    <tr style=\"text-align: right;\">\n",
       "      <th></th>\n",
       "      <th>transaction_id</th>\n",
       "      <th>cust_id</th>\n",
       "      <th>prod_subcat_code</th>\n",
       "      <th>prod_cat_code</th>\n",
       "      <th>Qty</th>\n",
       "      <th>Rate</th>\n",
       "      <th>Tax</th>\n",
       "      <th>total_amt</th>\n",
       "      <th>customer_Id</th>\n",
       "      <th>city_code</th>\n",
       "    </tr>\n",
       "  </thead>\n",
       "  <tbody>\n",
       "    <tr>\n",
       "      <th>Min</th>\n",
       "      <td>3.268991e+06</td>\n",
       "      <td>266783.0</td>\n",
       "      <td>1.0</td>\n",
       "      <td>1.0</td>\n",
       "      <td>-5.0</td>\n",
       "      <td>-1499.0</td>\n",
       "      <td>7.350</td>\n",
       "      <td>-8270.925</td>\n",
       "      <td>266783.0</td>\n",
       "      <td>1.0</td>\n",
       "    </tr>\n",
       "    <tr>\n",
       "      <th>Q1</th>\n",
       "      <td>2.493864e+10</td>\n",
       "      <td>268935.0</td>\n",
       "      <td>3.0</td>\n",
       "      <td>2.0</td>\n",
       "      <td>1.0</td>\n",
       "      <td>312.0</td>\n",
       "      <td>98.280</td>\n",
       "      <td>762.450</td>\n",
       "      <td>268935.0</td>\n",
       "      <td>3.0</td>\n",
       "    </tr>\n",
       "    <tr>\n",
       "      <th>Median</th>\n",
       "      <td>5.009313e+10</td>\n",
       "      <td>270980.0</td>\n",
       "      <td>5.0</td>\n",
       "      <td>4.0</td>\n",
       "      <td>3.0</td>\n",
       "      <td>710.0</td>\n",
       "      <td>199.080</td>\n",
       "      <td>1754.740</td>\n",
       "      <td>270980.0</td>\n",
       "      <td>5.0</td>\n",
       "    </tr>\n",
       "    <tr>\n",
       "      <th>Q3</th>\n",
       "      <td>7.533000e+10</td>\n",
       "      <td>273114.0</td>\n",
       "      <td>10.0</td>\n",
       "      <td>5.0</td>\n",
       "      <td>4.0</td>\n",
       "      <td>1109.0</td>\n",
       "      <td>365.715</td>\n",
       "      <td>3569.150</td>\n",
       "      <td>273114.0</td>\n",
       "      <td>8.0</td>\n",
       "    </tr>\n",
       "    <tr>\n",
       "      <th>Max</th>\n",
       "      <td>9.998755e+10</td>\n",
       "      <td>275265.0</td>\n",
       "      <td>12.0</td>\n",
       "      <td>6.0</td>\n",
       "      <td>5.0</td>\n",
       "      <td>1500.0</td>\n",
       "      <td>787.500</td>\n",
       "      <td>8287.500</td>\n",
       "      <td>275265.0</td>\n",
       "      <td>10.0</td>\n",
       "    </tr>\n",
       "  </tbody>\n",
       "</table>\n",
       "</div>"
      ],
      "text/plain": [
       "        transaction_id   cust_id  prod_subcat_code  prod_cat_code  Qty  \\\n",
       "Min       3.268991e+06  266783.0               1.0            1.0 -5.0   \n",
       "Q1        2.493864e+10  268935.0               3.0            2.0  1.0   \n",
       "Median    5.009313e+10  270980.0               5.0            4.0  3.0   \n",
       "Q3        7.533000e+10  273114.0              10.0            5.0  4.0   \n",
       "Max       9.998755e+10  275265.0              12.0            6.0  5.0   \n",
       "\n",
       "          Rate      Tax  total_amt  customer_Id  city_code  \n",
       "Min    -1499.0    7.350  -8270.925     266783.0        1.0  \n",
       "Q1       312.0   98.280    762.450     268935.0        3.0  \n",
       "Median   710.0  199.080   1754.740     270980.0        5.0  \n",
       "Q3      1109.0  365.715   3569.150     273114.0        8.0  \n",
       "Max     1500.0  787.500   8287.500     275265.0       10.0  "
      ]
     },
     "execution_count": 11,
     "metadata": {},
     "output_type": "execute_result"
    }
   ],
   "source": [
    "def new_fn(x):\n",
    "    return pd.Series([x.min(),x.quantile(0.25),x.median(),x.quantile(0.75),x.max()],index=['Min','Q1','Median','Q3','Max'])\n",
    "\n",
    "Five_Num_summary=Customer_Final.loc[:,(Customer_Final.dtypes=='int64')|(Customer_Final.dtypes=='float64')].apply(lambda x: new_fn(x))\n",
    "\n",
    "\n",
    "print(\"2.c The Five point summary is :\")\n",
    "\n",
    "Five_Num_summary"
   ]
  },
  {
   "cell_type": "code",
   "execution_count": 12,
   "metadata": {},
   "outputs": [
    {
     "name": "stdout",
     "output_type": "stream",
     "text": [
      " But as we have some extra columns too we'll be pulling out data column wise for the same\n"
     ]
    }
   ],
   "source": [
    "print(\" But as we have some extra columns too we'll be pulling out data column wise for the same\")"
   ]
  },
  {
   "cell_type": "code",
   "execution_count": 13,
   "metadata": {},
   "outputs": [
    {
     "name": "stdout",
     "output_type": "stream",
     "text": [
      "2.c The Five point summary is :\n"
     ]
    },
    {
     "data": {
      "text/html": [
       "<div>\n",
       "<style scoped>\n",
       "    .dataframe tbody tr th:only-of-type {\n",
       "        vertical-align: middle;\n",
       "    }\n",
       "\n",
       "    .dataframe tbody tr th {\n",
       "        vertical-align: top;\n",
       "    }\n",
       "\n",
       "    .dataframe thead th {\n",
       "        text-align: right;\n",
       "    }\n",
       "</style>\n",
       "<table border=\"1\" class=\"dataframe\">\n",
       "  <thead>\n",
       "    <tr style=\"text-align: right;\">\n",
       "      <th></th>\n",
       "      <th>Qty</th>\n",
       "      <th>Rate</th>\n",
       "      <th>Tax</th>\n",
       "      <th>total_amt</th>\n",
       "    </tr>\n",
       "  </thead>\n",
       "  <tbody>\n",
       "    <tr>\n",
       "      <th>Min</th>\n",
       "      <td>-5.0</td>\n",
       "      <td>-1499.0</td>\n",
       "      <td>7.350</td>\n",
       "      <td>-8270.925</td>\n",
       "    </tr>\n",
       "    <tr>\n",
       "      <th>Q1</th>\n",
       "      <td>1.0</td>\n",
       "      <td>312.0</td>\n",
       "      <td>98.280</td>\n",
       "      <td>762.450</td>\n",
       "    </tr>\n",
       "    <tr>\n",
       "      <th>Median</th>\n",
       "      <td>3.0</td>\n",
       "      <td>710.0</td>\n",
       "      <td>199.080</td>\n",
       "      <td>1754.740</td>\n",
       "    </tr>\n",
       "    <tr>\n",
       "      <th>Q3</th>\n",
       "      <td>4.0</td>\n",
       "      <td>1109.0</td>\n",
       "      <td>365.715</td>\n",
       "      <td>3569.150</td>\n",
       "    </tr>\n",
       "    <tr>\n",
       "      <th>Max</th>\n",
       "      <td>5.0</td>\n",
       "      <td>1500.0</td>\n",
       "      <td>787.500</td>\n",
       "      <td>8287.500</td>\n",
       "    </tr>\n",
       "  </tbody>\n",
       "</table>\n",
       "</div>"
      ],
      "text/plain": [
       "        Qty    Rate      Tax  total_amt\n",
       "Min    -5.0 -1499.0    7.350  -8270.925\n",
       "Q1      1.0   312.0   98.280    762.450\n",
       "Median  3.0   710.0  199.080   1754.740\n",
       "Q3      4.0  1109.0  365.715   3569.150\n",
       "Max     5.0  1500.0  787.500   8287.500"
      ]
     },
     "execution_count": 13,
     "metadata": {},
     "output_type": "execute_result"
    }
   ],
   "source": [
    "Five_Num_summary_Conti=Customer_Final[['Qty','Rate','Tax','total_amt']].apply(lambda x: new_fn(x))\n",
    "\n",
    "print(\"2.c The Five point summary is :\")\n",
    "\n",
    "Five_Num_summary_Conti"
   ]
  },
  {
   "cell_type": "code",
   "execution_count": 14,
   "metadata": {},
   "outputs": [
    {
     "name": "stdout",
     "output_type": "stream",
     "text": [
      "2.d A combined table for all\n"
     ]
    },
    {
     "data": {
      "text/html": [
       "<div>\n",
       "<style scoped>\n",
       "    .dataframe tbody tr th:only-of-type {\n",
       "        vertical-align: middle;\n",
       "    }\n",
       "\n",
       "    .dataframe tbody tr th {\n",
       "        vertical-align: top;\n",
       "    }\n",
       "\n",
       "    .dataframe thead th {\n",
       "        text-align: right;\n",
       "    }\n",
       "</style>\n",
       "<table border=\"1\" class=\"dataframe\">\n",
       "  <thead>\n",
       "    <tr style=\"text-align: right;\">\n",
       "      <th></th>\n",
       "      <th>Store_type</th>\n",
       "      <th>prod_cat</th>\n",
       "      <th>prod_subcat</th>\n",
       "      <th>Gender</th>\n",
       "      <th>city_code</th>\n",
       "      <th>cust_id</th>\n",
       "    </tr>\n",
       "  </thead>\n",
       "  <tbody>\n",
       "    <tr>\n",
       "      <th>0</th>\n",
       "      <td>Flagship store</td>\n",
       "      <td>Bags</td>\n",
       "      <td>Mens</td>\n",
       "      <td>F</td>\n",
       "      <td>1.0</td>\n",
       "      <td>15</td>\n",
       "    </tr>\n",
       "    <tr>\n",
       "      <th>1</th>\n",
       "      <td>Flagship store</td>\n",
       "      <td>Bags</td>\n",
       "      <td>Mens</td>\n",
       "      <td>F</td>\n",
       "      <td>2.0</td>\n",
       "      <td>11</td>\n",
       "    </tr>\n",
       "    <tr>\n",
       "      <th>2</th>\n",
       "      <td>Flagship store</td>\n",
       "      <td>Bags</td>\n",
       "      <td>Mens</td>\n",
       "      <td>F</td>\n",
       "      <td>3.0</td>\n",
       "      <td>5</td>\n",
       "    </tr>\n",
       "    <tr>\n",
       "      <th>3</th>\n",
       "      <td>Flagship store</td>\n",
       "      <td>Bags</td>\n",
       "      <td>Mens</td>\n",
       "      <td>F</td>\n",
       "      <td>4.0</td>\n",
       "      <td>9</td>\n",
       "    </tr>\n",
       "    <tr>\n",
       "      <th>4</th>\n",
       "      <td>Flagship store</td>\n",
       "      <td>Bags</td>\n",
       "      <td>Mens</td>\n",
       "      <td>F</td>\n",
       "      <td>5.0</td>\n",
       "      <td>6</td>\n",
       "    </tr>\n",
       "  </tbody>\n",
       "</table>\n",
       "</div>"
      ],
      "text/plain": [
       "       Store_type prod_cat prod_subcat Gender  city_code  cust_id\n",
       "0  Flagship store     Bags        Mens      F        1.0       15\n",
       "1  Flagship store     Bags        Mens      F        2.0       11\n",
       "2  Flagship store     Bags        Mens      F        3.0        5\n",
       "3  Flagship store     Bags        Mens      F        4.0        9\n",
       "4  Flagship store     Bags        Mens      F        5.0        6"
      ]
     },
     "execution_count": 14,
     "metadata": {},
     "output_type": "execute_result"
    }
   ],
   "source": [
    "print(\"2.d A combined table for all\")\n",
    "\n",
    "Customer_Final.groupby(['Store_type','prod_cat','prod_subcat','Gender','city_code'])[['cust_id']].count().reset_index().head(5)"
   ]
  },
  {
   "cell_type": "code",
   "execution_count": 15,
   "metadata": {},
   "outputs": [
    {
     "name": "stdout",
     "output_type": "stream",
     "text": [
      "2.d Now seperate fequency table for every Catagorical value\n"
     ]
    }
   ],
   "source": [
    "print(\"2.d Now seperate fequency table for every Catagorical value\")"
   ]
  },
  {
   "cell_type": "code",
   "execution_count": 16,
   "metadata": {},
   "outputs": [
    {
     "data": {
      "text/html": [
       "<div>\n",
       "<style scoped>\n",
       "    .dataframe tbody tr th:only-of-type {\n",
       "        vertical-align: middle;\n",
       "    }\n",
       "\n",
       "    .dataframe tbody tr th {\n",
       "        vertical-align: top;\n",
       "    }\n",
       "\n",
       "    .dataframe thead th {\n",
       "        text-align: right;\n",
       "    }\n",
       "</style>\n",
       "<table border=\"1\" class=\"dataframe\">\n",
       "  <thead>\n",
       "    <tr style=\"text-align: right;\">\n",
       "      <th></th>\n",
       "      <th>Store_type</th>\n",
       "      <th>cust_id</th>\n",
       "    </tr>\n",
       "  </thead>\n",
       "  <tbody>\n",
       "    <tr>\n",
       "      <th>0</th>\n",
       "      <td>Flagship store</td>\n",
       "      <td>4577</td>\n",
       "    </tr>\n",
       "    <tr>\n",
       "      <th>1</th>\n",
       "      <td>MBR</td>\n",
       "      <td>4661</td>\n",
       "    </tr>\n",
       "    <tr>\n",
       "      <th>2</th>\n",
       "      <td>TeleShop</td>\n",
       "      <td>4504</td>\n",
       "    </tr>\n",
       "    <tr>\n",
       "      <th>3</th>\n",
       "      <td>e-Shop</td>\n",
       "      <td>9311</td>\n",
       "    </tr>\n",
       "  </tbody>\n",
       "</table>\n",
       "</div>"
      ],
      "text/plain": [
       "       Store_type  cust_id\n",
       "0  Flagship store     4577\n",
       "1             MBR     4661\n",
       "2        TeleShop     4504\n",
       "3          e-Shop     9311"
      ]
     },
     "execution_count": 16,
     "metadata": {},
     "output_type": "execute_result"
    }
   ],
   "source": [
    "a=Customer_Final.groupby(['Store_type'])[['cust_id']].count().reset_index()\n",
    "a"
   ]
  },
  {
   "cell_type": "code",
   "execution_count": 17,
   "metadata": {},
   "outputs": [
    {
     "data": {
      "text/html": [
       "<div>\n",
       "<style scoped>\n",
       "    .dataframe tbody tr th:only-of-type {\n",
       "        vertical-align: middle;\n",
       "    }\n",
       "\n",
       "    .dataframe tbody tr th {\n",
       "        vertical-align: top;\n",
       "    }\n",
       "\n",
       "    .dataframe thead th {\n",
       "        text-align: right;\n",
       "    }\n",
       "</style>\n",
       "<table border=\"1\" class=\"dataframe\">\n",
       "  <thead>\n",
       "    <tr style=\"text-align: right;\">\n",
       "      <th></th>\n",
       "      <th>prod_cat</th>\n",
       "      <th>cust_id</th>\n",
       "    </tr>\n",
       "  </thead>\n",
       "  <tbody>\n",
       "    <tr>\n",
       "      <th>0</th>\n",
       "      <td>Bags</td>\n",
       "      <td>1998</td>\n",
       "    </tr>\n",
       "    <tr>\n",
       "      <th>1</th>\n",
       "      <td>Books</td>\n",
       "      <td>6069</td>\n",
       "    </tr>\n",
       "    <tr>\n",
       "      <th>2</th>\n",
       "      <td>Clothing</td>\n",
       "      <td>2960</td>\n",
       "    </tr>\n",
       "    <tr>\n",
       "      <th>3</th>\n",
       "      <td>Electronics</td>\n",
       "      <td>4898</td>\n",
       "    </tr>\n",
       "    <tr>\n",
       "      <th>4</th>\n",
       "      <td>Footwear</td>\n",
       "      <td>2999</td>\n",
       "    </tr>\n",
       "    <tr>\n",
       "      <th>5</th>\n",
       "      <td>Home and kitchen</td>\n",
       "      <td>4129</td>\n",
       "    </tr>\n",
       "  </tbody>\n",
       "</table>\n",
       "</div>"
      ],
      "text/plain": [
       "           prod_cat  cust_id\n",
       "0              Bags     1998\n",
       "1             Books     6069\n",
       "2          Clothing     2960\n",
       "3       Electronics     4898\n",
       "4          Footwear     2999\n",
       "5  Home and kitchen     4129"
      ]
     },
     "execution_count": 17,
     "metadata": {},
     "output_type": "execute_result"
    }
   ],
   "source": [
    "b=Customer_Final.groupby(['prod_cat'])[['cust_id']].count().reset_index()\n",
    "b"
   ]
  },
  {
   "cell_type": "code",
   "execution_count": 18,
   "metadata": {},
   "outputs": [
    {
     "data": {
      "text/html": [
       "<div>\n",
       "<style scoped>\n",
       "    .dataframe tbody tr th:only-of-type {\n",
       "        vertical-align: middle;\n",
       "    }\n",
       "\n",
       "    .dataframe tbody tr th {\n",
       "        vertical-align: top;\n",
       "    }\n",
       "\n",
       "    .dataframe thead th {\n",
       "        text-align: right;\n",
       "    }\n",
       "</style>\n",
       "<table border=\"1\" class=\"dataframe\">\n",
       "  <thead>\n",
       "    <tr style=\"text-align: right;\">\n",
       "      <th></th>\n",
       "      <th>prod_subcat</th>\n",
       "      <th>cust_id</th>\n",
       "    </tr>\n",
       "  </thead>\n",
       "  <tbody>\n",
       "    <tr>\n",
       "      <th>0</th>\n",
       "      <td>Academic</td>\n",
       "      <td>967</td>\n",
       "    </tr>\n",
       "    <tr>\n",
       "      <th>1</th>\n",
       "      <td>Audio and video</td>\n",
       "      <td>952</td>\n",
       "    </tr>\n",
       "    <tr>\n",
       "      <th>2</th>\n",
       "      <td>Bath</td>\n",
       "      <td>1023</td>\n",
       "    </tr>\n",
       "    <tr>\n",
       "      <th>3</th>\n",
       "      <td>Cameras</td>\n",
       "      <td>985</td>\n",
       "    </tr>\n",
       "    <tr>\n",
       "      <th>4</th>\n",
       "      <td>Children</td>\n",
       "      <td>1035</td>\n",
       "    </tr>\n",
       "    <tr>\n",
       "      <th>5</th>\n",
       "      <td>Comics</td>\n",
       "      <td>1031</td>\n",
       "    </tr>\n",
       "    <tr>\n",
       "      <th>6</th>\n",
       "      <td>Computers</td>\n",
       "      <td>958</td>\n",
       "    </tr>\n",
       "    <tr>\n",
       "      <th>7</th>\n",
       "      <td>DIY</td>\n",
       "      <td>989</td>\n",
       "    </tr>\n",
       "    <tr>\n",
       "      <th>8</th>\n",
       "      <td>Fiction</td>\n",
       "      <td>1043</td>\n",
       "    </tr>\n",
       "    <tr>\n",
       "      <th>9</th>\n",
       "      <td>Furnishing</td>\n",
       "      <td>1007</td>\n",
       "    </tr>\n",
       "    <tr>\n",
       "      <th>10</th>\n",
       "      <td>Kids</td>\n",
       "      <td>1997</td>\n",
       "    </tr>\n",
       "    <tr>\n",
       "      <th>11</th>\n",
       "      <td>Kitchen</td>\n",
       "      <td>1037</td>\n",
       "    </tr>\n",
       "    <tr>\n",
       "      <th>12</th>\n",
       "      <td>Mens</td>\n",
       "      <td>2912</td>\n",
       "    </tr>\n",
       "    <tr>\n",
       "      <th>13</th>\n",
       "      <td>Mobiles</td>\n",
       "      <td>1031</td>\n",
       "    </tr>\n",
       "    <tr>\n",
       "      <th>14</th>\n",
       "      <td>Non-Fiction</td>\n",
       "      <td>1004</td>\n",
       "    </tr>\n",
       "    <tr>\n",
       "      <th>15</th>\n",
       "      <td>Personal Appliances</td>\n",
       "      <td>972</td>\n",
       "    </tr>\n",
       "    <tr>\n",
       "      <th>16</th>\n",
       "      <td>Tools</td>\n",
       "      <td>1062</td>\n",
       "    </tr>\n",
       "    <tr>\n",
       "      <th>17</th>\n",
       "      <td>Women</td>\n",
       "      <td>3048</td>\n",
       "    </tr>\n",
       "  </tbody>\n",
       "</table>\n",
       "</div>"
      ],
      "text/plain": [
       "            prod_subcat  cust_id\n",
       "0              Academic      967\n",
       "1       Audio and video      952\n",
       "2                  Bath     1023\n",
       "3               Cameras      985\n",
       "4              Children     1035\n",
       "5                Comics     1031\n",
       "6             Computers      958\n",
       "7                   DIY      989\n",
       "8               Fiction     1043\n",
       "9            Furnishing     1007\n",
       "10                 Kids     1997\n",
       "11              Kitchen     1037\n",
       "12                 Mens     2912\n",
       "13              Mobiles     1031\n",
       "14          Non-Fiction     1004\n",
       "15  Personal Appliances      972\n",
       "16                Tools     1062\n",
       "17                Women     3048"
      ]
     },
     "execution_count": 18,
     "metadata": {},
     "output_type": "execute_result"
    }
   ],
   "source": [
    "c=Customer_Final.groupby(['prod_subcat'])[['cust_id']].count().reset_index()\n",
    "c"
   ]
  },
  {
   "cell_type": "code",
   "execution_count": 19,
   "metadata": {},
   "outputs": [
    {
     "data": {
      "text/html": [
       "<div>\n",
       "<style scoped>\n",
       "    .dataframe tbody tr th:only-of-type {\n",
       "        vertical-align: middle;\n",
       "    }\n",
       "\n",
       "    .dataframe tbody tr th {\n",
       "        vertical-align: top;\n",
       "    }\n",
       "\n",
       "    .dataframe thead th {\n",
       "        text-align: right;\n",
       "    }\n",
       "</style>\n",
       "<table border=\"1\" class=\"dataframe\">\n",
       "  <thead>\n",
       "    <tr style=\"text-align: right;\">\n",
       "      <th></th>\n",
       "      <th>Gender</th>\n",
       "      <th>cust_id</th>\n",
       "    </tr>\n",
       "  </thead>\n",
       "  <tbody>\n",
       "    <tr>\n",
       "      <th>0</th>\n",
       "      <td>F</td>\n",
       "      <td>11233</td>\n",
       "    </tr>\n",
       "    <tr>\n",
       "      <th>1</th>\n",
       "      <td>M</td>\n",
       "      <td>11811</td>\n",
       "    </tr>\n",
       "  </tbody>\n",
       "</table>\n",
       "</div>"
      ],
      "text/plain": [
       "  Gender  cust_id\n",
       "0      F    11233\n",
       "1      M    11811"
      ]
     },
     "execution_count": 19,
     "metadata": {},
     "output_type": "execute_result"
    }
   ],
   "source": [
    "d=Customer_Final.groupby(['Gender'])[['cust_id']].count().reset_index()\n",
    "d"
   ]
  },
  {
   "cell_type": "code",
   "execution_count": 20,
   "metadata": {},
   "outputs": [
    {
     "data": {
      "text/html": [
       "<div>\n",
       "<style scoped>\n",
       "    .dataframe tbody tr th:only-of-type {\n",
       "        vertical-align: middle;\n",
       "    }\n",
       "\n",
       "    .dataframe tbody tr th {\n",
       "        vertical-align: top;\n",
       "    }\n",
       "\n",
       "    .dataframe thead th {\n",
       "        text-align: right;\n",
       "    }\n",
       "</style>\n",
       "<table border=\"1\" class=\"dataframe\">\n",
       "  <thead>\n",
       "    <tr style=\"text-align: right;\">\n",
       "      <th></th>\n",
       "      <th>city_code</th>\n",
       "      <th>cust_id</th>\n",
       "    </tr>\n",
       "  </thead>\n",
       "  <tbody>\n",
       "    <tr>\n",
       "      <th>0</th>\n",
       "      <td>1.0</td>\n",
       "      <td>2258</td>\n",
       "    </tr>\n",
       "    <tr>\n",
       "      <th>1</th>\n",
       "      <td>2.0</td>\n",
       "      <td>2270</td>\n",
       "    </tr>\n",
       "    <tr>\n",
       "      <th>2</th>\n",
       "      <td>3.0</td>\n",
       "      <td>2411</td>\n",
       "    </tr>\n",
       "    <tr>\n",
       "      <th>3</th>\n",
       "      <td>4.0</td>\n",
       "      <td>2422</td>\n",
       "    </tr>\n",
       "    <tr>\n",
       "      <th>4</th>\n",
       "      <td>5.0</td>\n",
       "      <td>2360</td>\n",
       "    </tr>\n",
       "    <tr>\n",
       "      <th>5</th>\n",
       "      <td>6.0</td>\n",
       "      <td>2127</td>\n",
       "    </tr>\n",
       "    <tr>\n",
       "      <th>6</th>\n",
       "      <td>7.0</td>\n",
       "      <td>2356</td>\n",
       "    </tr>\n",
       "    <tr>\n",
       "      <th>7</th>\n",
       "      <td>8.0</td>\n",
       "      <td>2330</td>\n",
       "    </tr>\n",
       "    <tr>\n",
       "      <th>8</th>\n",
       "      <td>9.0</td>\n",
       "      <td>2178</td>\n",
       "    </tr>\n",
       "    <tr>\n",
       "      <th>9</th>\n",
       "      <td>10.0</td>\n",
       "      <td>2333</td>\n",
       "    </tr>\n",
       "  </tbody>\n",
       "</table>\n",
       "</div>"
      ],
      "text/plain": [
       "   city_code  cust_id\n",
       "0        1.0     2258\n",
       "1        2.0     2270\n",
       "2        3.0     2411\n",
       "3        4.0     2422\n",
       "4        5.0     2360\n",
       "5        6.0     2127\n",
       "6        7.0     2356\n",
       "7        8.0     2330\n",
       "8        9.0     2178\n",
       "9       10.0     2333"
      ]
     },
     "execution_count": 20,
     "metadata": {},
     "output_type": "execute_result"
    }
   ],
   "source": [
    "e=Customer_Final.groupby(['city_code'])[['cust_id']].count().reset_index()\n",
    "e"
   ]
  },
  {
   "cell_type": "code",
   "execution_count": 21,
   "metadata": {},
   "outputs": [
    {
     "name": "stdout",
     "output_type": "stream",
     "text": [
      "3. Histograms for all continuous variables\n"
     ]
    }
   ],
   "source": [
    "print('3. Histograms for all continuous variables')"
   ]
  },
  {
   "cell_type": "code",
   "execution_count": 22,
   "metadata": {},
   "outputs": [
    {
     "data": {
      "text/plain": [
       "<matplotlib.axes._subplots.AxesSubplot at 0x1e88b170710>"
      ]
     },
     "execution_count": 22,
     "metadata": {},
     "output_type": "execute_result"
    },
    {
     "data": {
      "image/png": "[encoded data removed]",
      "text/plain": [
       "<Figure size 432x288 with 1 Axes>"
      ]
     },
     "metadata": {
      "needs_background": "light"
     },
     "output_type": "display_data"
    }
   ],
   "source": [
    "Customer_Final.Qty.hist()"
   ]
  },
  {
   "cell_type": "code",
   "execution_count": 23,
   "metadata": {},
   "outputs": [
    {
     "data": {
      "text/plain": [
       "<matplotlib.axes._subplots.AxesSubplot at 0x1e88b23dcc0>"
      ]
     },
     "execution_count": 23,
     "metadata": {},
     "output_type": "execute_result"
    },
    {
     "data": {
      "image/png": "[encoded data removed]",
      "text/plain": [
       "<Figure size 432x288 with 1 Axes>"
      ]
     },
     "metadata": {
      "needs_background": "light"
     },
     "output_type": "display_data"
    }
   ],
   "source": [
    "Customer_Final.Rate.hist()"
   ]
  },
  {
   "cell_type": "code",
   "execution_count": 24,
   "metadata": {},
   "outputs": [
    {
     "data": {
      "text/plain": [
       "<matplotlib.axes._subplots.AxesSubplot at 0x1e88aff97b8>"
      ]
     },
     "execution_count": 24,
     "metadata": {},
     "output_type": "execute_result"
    },
    {
     "data": {
      "image/png": "[encoded data removed]",
      "text/plain": [
       "<Figure size 432x288 with 1 Axes>"
      ]
     },
     "metadata": {
      "needs_background": "light"
     },
     "output_type": "display_data"
    }
   ],
   "source": [
    "Customer_Final.Tax.hist()"
   ]
  },
  {
   "cell_type": "code",
   "execution_count": 25,
   "metadata": {},
   "outputs": [
    {
     "data": {
      "text/plain": [
       "<matplotlib.axes._subplots.AxesSubplot at 0x1e88b1fd160>"
      ]
     },
     "execution_count": 25,
     "metadata": {},
     "output_type": "execute_result"
    },
    {
     "data": {
      "image/png": "[encoded data removed]",
      "text/plain": [
       "<Figure size 432x288 with 1 Axes>"
      ]
     },
     "metadata": {
      "needs_background": "light"
     },
     "output_type": "display_data"
    }
   ],
   "source": [
    "Customer_Final.total_amt.hist()"
   ]
  },
  {
   "cell_type": "code",
   "execution_count": 26,
   "metadata": {},
   "outputs": [
    {
     "name": "stdout",
     "output_type": "stream",
     "text": [
      "3. Frequency bars for catagorical variables\n"
     ]
    }
   ],
   "source": [
    "print(\"3. Frequency bars for catagorical variables\")"
   ]
  },
  {
   "cell_type": "code",
   "execution_count": 27,
   "metadata": {},
   "outputs": [
    {
     "data": {
      "text/plain": [
       "<BarContainer object of 4 artists>"
      ]
     },
     "execution_count": 27,
     "metadata": {},
     "output_type": "execute_result"
    },
    {
     "data": {
      "image/png": "[encoded data removed]",
      "text/plain": [
       "<Figure size 432x288 with 1 Axes>"
      ]
     },
     "metadata": {
      "needs_background": "light"
     },
     "output_type": "display_data"
    }
   ],
   "source": [
    "plt.bar(a.Store_type,a.cust_id)"
   ]
  },
  {
   "cell_type": "code",
   "execution_count": 28,
   "metadata": {},
   "outputs": [
    {
     "data": {
      "text/plain": [
       "([0, 1, 2, 3, 4, 5], <a list of 6 Text xticklabel objects>)"
      ]
     },
     "execution_count": 28,
     "metadata": {},
     "output_type": "execute_result"
    },
    {
     "data": {
      "image/png": "[encoded data removed]",
      "text/plain": [
       "<Figure size 432x288 with 1 Axes>"
      ]
     },
     "metadata": {
      "needs_background": "light"
     },
     "output_type": "display_data"
    }
   ],
   "source": [
    "plt.bar(b.prod_cat,b.cust_id)\n",
    "plt.xticks(rotation=90)"
   ]
  },
  {
   "cell_type": "code",
   "execution_count": 29,
   "metadata": {},
   "outputs": [
    {
     "data": {
      "text/plain": [
       "([0, 1, 2, 3, 4, 5, 6, 7, 8, 9, 10, 11, 12, 13, 14, 15, 16, 17],\n",
       " <a list of 18 Text xticklabel objects>)"
      ]
     },
     "execution_count": 29,
     "metadata": {},
     "output_type": "execute_result"
    },
    {
     "data": {
      "image/png": "[encoded data removed]",
      "text/plain": [
       "<Figure size 432x288 with 1 Axes>"
      ]
     },
     "metadata": {
      "needs_background": "light"
     },
     "output_type": "display_data"
    }
   ],
   "source": [
    "plt.bar(c.prod_subcat,c.cust_id)\n",
    "plt.xticks(rotation=90)"
   ]
  },
  {
   "cell_type": "code",
   "execution_count": 30,
   "metadata": {},
   "outputs": [
    {
     "data": {
      "text/plain": [
       "<BarContainer object of 2 artists>"
      ]
     },
     "execution_count": 30,
     "metadata": {},
     "output_type": "execute_result"
    },
    {
     "data": {
      "image/png": "[encoded data removed]",
      "text/plain": [
       "<Figure size 432x288 with 1 Axes>"
      ]
     },
     "metadata": {
      "needs_background": "light"
     },
     "output_type": "display_data"
    }
   ],
   "source": [
    "plt.bar(d.Gender,d.cust_id)"
   ]
  },
  {
   "cell_type": "code",
   "execution_count": 31,
   "metadata": {},
   "outputs": [
    {
     "data": {
      "text/plain": [
       "<BarContainer object of 10 artists>"
      ]
     },
     "execution_count": 31,
     "metadata": {},
     "output_type": "execute_result"
    },
    {
     "data": {
      "image/png": "[encoded data removed]",
      "text/plain": [
       "<Figure size 432x288 with 1 Axes>"
      ]
     },
     "metadata": {
      "needs_background": "light"
     },
     "output_type": "display_data"
    }
   ],
   "source": [
    "plt.bar(e.city_code,e.cust_id)"
   ]
  },
  {
   "cell_type": "code",
   "execution_count": 32,
   "metadata": {},
   "outputs": [
    {
     "name": "stdout",
     "output_type": "stream",
     "text": [
      "4.a The data is from 2011-1-2 till 2014-12-2\n"
     ]
    }
   ],
   "source": [
    "Customer_Final['tran_date']=pd.to_datetime(Customer_Final.tran_date)\n",
    "Customer_Final['DOB']=pd.to_datetime(Customer_Final.DOB)\n",
    "\n",
    "Sorted_T=Customer_Final.sort_values('tran_date')\n",
    "\n",
    "Start_Y=Sorted_T['tran_date'].iloc[0].year\n",
    "Start_M=Sorted_T['tran_date'].iloc[0].month\n",
    "Start_D=Sorted_T['tran_date'].iloc[0].day\n",
    "\n",
    "End_Y=Sorted_T['tran_date'].iloc[-1].year\n",
    "End_M=Sorted_T['tran_date'].iloc[-1].month\n",
    "End_D=Sorted_T['tran_date'].iloc[-1].day\n",
    "\n",
    "\n",
    "print(\"4.a The data is from \",Start_Y,\"-\",Start_M,\"-\",Start_D,' till ',End_Y,'-',End_M,'-',End_D,sep='')"
   ]
  },
  {
   "cell_type": "code",
   "execution_count": 33,
   "metadata": {},
   "outputs": [
    {
     "name": "stdout",
     "output_type": "stream",
     "text": [
      "4.b The total amount of transaction was negative in 2177 values \n"
     ]
    }
   ],
   "source": [
    "Value=Customer_Final.total_amt[Customer_Final.total_amt<0].count()\n",
    "\n",
    "print(\"4.b The total amount of transaction was negative in\",Value,\"values \")"
   ]
  },
  {
   "cell_type": "code",
   "execution_count": 34,
   "metadata": {},
   "outputs": [
    {
     "name": "stdout",
     "output_type": "stream",
     "text": [
      "5. The product analysis based on the gender is: \n",
      "\n",
      "Product Bags is more popular in males as it has 1004 customers\n",
      "Product Books is more popular in males as it has 3116 customers\n",
      "Product Clothing is more popular in males as it has 1518 customers\n",
      "Product Electronics is more popular in males as it has 2570 customers\n",
      "Product Footwear is more popular in females as it has 1529 customers\n",
      "Product Home and kitchen is more popular in males as it has 2134 customers\n"
     ]
    }
   ],
   "source": [
    "Products=Customer_Final.groupby(['prod_cat','Gender'])[['cust_id']].count().reset_index()\n",
    "\n",
    "Male=Products[['prod_cat','cust_id']][Products.Gender=='M'].reset_index()\n",
    "Female=Products[['prod_cat','cust_id']][Products.Gender=='F'].reset_index()\n",
    "\n",
    "print('5. The product analysis based on the gender is: \\n')\n",
    "\n",
    "for x in range(0,6):\n",
    "    if((Male.cust_id.iloc[x])>(Female.cust_id.iloc[x])):\n",
    "        print(\"Product\",Male.prod_cat.iloc[x],'is more popular in males as it has',Male.cust_id.iloc[x],'customers')\n",
    "    else:\n",
    "        print(\"Product\",Male.prod_cat.iloc[x],'is more popular in females as it has',Female.cust_id.iloc[x],'customers')"
   ]
  },
  {
   "cell_type": "code",
   "execution_count": 35,
   "metadata": {},
   "outputs": [
    {
     "name": "stdout",
     "output_type": "stream",
     "text": [
      "6. City 4.0 has the maximum customers and the perecentage of customers from that city is 10.506\n"
     ]
    }
   ],
   "source": [
    "City_code=Customer_Final.groupby('city_code')[['cust_id']].count().reset_index()\n",
    "Max=City_code.cust_id.max()\n",
    "\n",
    "for x in range(0,10):\n",
    "    if(City_code.cust_id.iloc[x]==City_code.cust_id.max()):\n",
    "        City=City_code.city_code.iloc[x]\n",
    "        \n",
    "Percentage=(Max/Customer_Final.cust_id.count())*100\n",
    "\n",
    "print('6. City',City,'has the maximum customers and the perecentage of customers from that city is',round(Percentage,3))"
   ]
  },
  {
   "cell_type": "code",
   "execution_count": 36,
   "metadata": {},
   "outputs": [
    {
     "name": "stdout",
     "output_type": "stream",
     "text": [
      "7. Store e-Shop sells the maximum products by qunatity that is 22763 and store e-Shop sells the maximum products by value that is Rs. 19824816.05\n"
     ]
    }
   ],
   "source": [
    "Store=Customer_Final.groupby('Store_type')[['Qty','total_amt']].sum().reset_index()\n",
    "\n",
    "Qty_Max=Store.Qty.max()\n",
    "Amt_max=Store.total_amt.max()\n",
    "\n",
    "\n",
    "for x in range(0,4):\n",
    "    if(Store.Qty.iloc[x]==Store.Qty.max()):\n",
    "        Max_Q=(Store.Store_type.iloc[x])\n",
    "        \n",
    "    if(Store.total_amt.iloc[x]==Store.total_amt.max()):\n",
    "        Max_A=(Store.Store_type.iloc[x])\n",
    "        \n",
    "        \n",
    "print(\"7. Store\",Max_Q,'sells the maximum products by qunatity that is',Qty_Max,'and store',Max_A,'sells the maximum products by value that is Rs.',round(Amt_max,2))"
   ]
  },
  {
   "cell_type": "code",
   "execution_count": 37,
   "metadata": {},
   "outputs": [
    {
     "name": "stdout",
     "output_type": "stream",
     "text": [
      "8. The total amount earned earned from the Electronics and Clothing categories from Flagship Stores is Rs. 3409559.27\n"
     ]
    }
   ],
   "source": [
    "Total_Amt=Customer_Final['total_amt'][((Customer_Final.prod_cat=='Electronics')|(Customer_Final.prod_cat=='Clothing'))&(Customer_Final.Store_type=='Flagship store')].sum()\n",
    "\n",
    "\n",
    "print(\"8. The total amount earned earned from the Electronics and Clothing categories from Flagship Stores is Rs.\",Total_Amt)"
   ]
  },
  {
   "cell_type": "code",
   "execution_count": 38,
   "metadata": {},
   "outputs": [
    {
     "name": "stdout",
     "output_type": "stream",
     "text": [
      "9. The total amount earned from Male customers under the Electronics category is Rs. 5703109.425\n"
     ]
    }
   ],
   "source": [
    "Total_Amt_M=Customer_Final['total_amt'][(Customer_Final.prod_cat=='Electronics')&(Customer_Final.Gender=='M')].sum()\n",
    "\n",
    "print(\"9. The total amount earned from Male customers under the Electronics category is Rs.\",round(Total_Amt_M,3))"
   ]
  },
  {
   "cell_type": "code",
   "execution_count": 39,
   "metadata": {},
   "outputs": [
    {
     "name": "stdout",
     "output_type": "stream",
     "text": [
      "10. The customers that have more than 10 unique transactions, after removing all transactions which have any negative amounts are [272741, 270803, 274227, 273014, 266794, 270535]\n"
     ]
    }
   ],
   "source": [
    "New_Table=Customer_Final[(Customer_Final.total_amt>0)]\n",
    "\n",
    "Values=New_Table.cust_id.value_counts()\n",
    "\n",
    "y=Values[Values>10].index.tolist()\n",
    "\n",
    "print(\"10. The customers that have more than 10 unique transactions, after removing all transactions which have any negative amounts are\",y)"
   ]
  },
  {
   "cell_type": "code",
   "execution_count": 40,
   "metadata": {},
   "outputs": [],
   "source": [
    "now=pd.Timestamp('now')\n",
    "\n",
    "Customer_Final['Age']=(now - Customer_Final['DOB']).astype('timedelta64[Y]')\n",
    "\n",
    "Customer_Age=Customer_Final[(Customer_Final.Age>25)&(Customer_Final.Age<35)]"
   ]
  },
  {
   "cell_type": "code",
   "execution_count": 41,
   "metadata": {},
   "outputs": [
    {
     "name": "stdout",
     "output_type": "stream",
     "text": [
      "11.a The total amount spent for “Electronics” and “Books” product categories for customers with age between 25 and 35 is Rs. 8046823.265\n"
     ]
    }
   ],
   "source": [
    "Age_amt=Customer_Age.total_amt[(Customer_Age.prod_cat=='Books')|(Customer_Age.prod_cat=='Electronics')].sum()\n",
    "\n",
    "print('11.a The total amount spent for “Electronics” and “Books” product categories for customers with age between 25 and 35 is Rs.',round(Age_amt,3))"
   ]
  },
  {
   "cell_type": "code",
   "execution_count": 42,
   "metadata": {},
   "outputs": [
    {
     "name": "stdout",
     "output_type": "stream",
     "text": [
      "11.b  The total amount spent by customers with age between 25 and 35 between 1st Jan, 2014 to 1st Mar, 2014 is Rs. 505799.385\n"
     ]
    }
   ],
   "source": [
    "start_date='2014-01-01'\n",
    "\n",
    "end_date='2014-03-01'\n",
    "\n",
    "Amt_Date=Customer_Age.total_amt[(Customer_Age.tran_date>start_date)&(Customer_Age.tran_date<end_date)].sum()\n",
    "\n",
    "print('11.b  The total amount spent by customers with age between 25 and 35 between 1st Jan, 2014 to 1st Mar, 2014 is Rs.',round(Amt_Date,3))"
   ]
  },
  {
   "cell_type": "code",
   "execution_count": null,
   "metadata": {},
   "outputs": [],
   "source": []
  },
  {
   "cell_type": "code",
   "execution_count": null,
   "metadata": {},
   "outputs": [],
   "source": []
  }
 ],
 "metadata": {
  "kernelspec": {
   "display_name": "Python 3",
   "language": "python",
   "name": "python3"
  },
  "language_info": {
   "codemirror_mode": {
    "name": "ipython",
    "version": 3
   },
   "file_extension": ".py",
   "mimetype": "text/x-python",
   "name": "python",
   "nbconvert_exporter": "python",
   "pygments_lexer": "ipython3",
   "version": "3.7.3"
  }
 },
 "nbformat": 4,
 "nbformat_minor": 2
}
